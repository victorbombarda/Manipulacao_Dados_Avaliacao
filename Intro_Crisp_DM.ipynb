{
 "cells": [
  {
   "cell_type": "markdown",
   "metadata": {},
   "source": [
    "## Introduction to Data Science\n",
    "\n",
    "## The CRISP-DM approach to Data Science Tasks"
   ]
  },
  {
   "cell_type": "markdown",
   "metadata": {},
   "source": [
    "_________________________"
   ]
  },
  {
   "cell_type": "markdown",
   "metadata": {},
   "source": [
    "## I. Business Understanding\n",
    "                    \n",
    "#### The Business Understanding phase focuses on understanding the objectives and requirements of the project.  \n",
    "+ Determine business objectives:   \n",
    "+ Assess situation:  \n",
    "+ Determine data mining goals:  \n",
    "+ Produce project plan:  "
   ]
  },
  {
   "source": [
    "### Bussiness objectives/Assess situations\n",
    "Nossa base de dados consiste em informações da vida escolar e familiar de  mais de 300 alunos da região do Porto, Portugal, associando a cada um a chance destes beberem casualmente durante seu tempo livre, seja no fim de semana ou nos dias escolares.\n",
    "\n",
    "Estas dependem de fatores como, notas escolares, relações familiares, acesso à internet e até mesmo tempo livre após as aulas, abrangindo um caráter socio-educativo à analise da questão em si.\n",
    "\n",
    "Com estes dados, buscamos podem tentar enxergar uma relação e/ou tendência destas características particulares com a propenção destes alunos a consumirem álcool a uma idade mais jovem.\n",
    "\n",
    "O estudo que propuremos terá como objetivo agrupar os alunos por categorias relacionadas a este consumo de álcool, com o objetivo de pensarmos em um hipotético projeto de prevenção do uso de drogas lícitas e ilícitas, considerando que muitas vezes este consumo serve de porta de entrada para outras drogas como cigarro, maconha e outras até mais problemáticas.\n",
    "\n",
    "\n",
    "### Determine data mining goals\n",
    "Nossos dados são provenientes no Kaggle:\n",
    "[https://www.kaggle.com/uciml/student-alcohol-consumption]\n",
    "\n",
    "\n",
    "### Produce project plan\n",
    "Tentar encontrar correlações que, muitas vezes não se mostram óbvias, e tentar gerar o melhor modelo possível filtrando as diferentes informações que temos.\n",
    "\n"
   ],
   "cell_type": "markdown",
   "metadata": {}
  },
  {
   "cell_type": "markdown",
   "metadata": {},
   "source": [
    "## II. Data Understanding  \n",
    "\n",
    "+ Collect initial data:  \n",
    "+ Describe data:  \n",
    "+ Explore data:  \n",
    "+ Verify data quality:  "
   ]
  },
  {
   "cell_type": "code",
   "execution_count": null,
   "metadata": {},
   "outputs": [],
   "source": []
  },
  {
   "cell_type": "markdown",
   "metadata": {},
   "source": [
    "## III. Data Preparation\n",
    "\n",
    "+ Select data:   \n",
    "+ Clean data:   \n",
    "+ Construct data/transform data/feature engineering:   \n",
    "+ Integrate data:   \n",
    "+ (Re) Format data:   "
   ]
  },
  {
   "cell_type": "code",
   "execution_count": null,
   "metadata": {},
   "outputs": [],
   "source": []
  },
  {
   "cell_type": "markdown",
   "metadata": {},
   "source": [
    "## IV. Modeling\n",
    "\n",
    "+ Select modeling techniques: \n",
    "+ Generate test design: \n",
    "+ Build model: \n",
    "+ Assess model:  "
   ]
  },
  {
   "cell_type": "code",
   "execution_count": null,
   "metadata": {},
   "outputs": [],
   "source": []
  },
  {
   "cell_type": "markdown",
   "metadata": {},
   "source": [
    "## V. Evaluation                    \n",
    "\n",
    "+ Evaluate results: \n",
    "+ Review process: \n",
    "+ Determine next steps: "
   ]
  },
  {
   "cell_type": "code",
   "execution_count": null,
   "metadata": {},
   "outputs": [],
   "source": []
  },
  {
   "cell_type": "markdown",
   "metadata": {},
   "source": [
    "## VI. Deployment\n",
    "\n",
    "+ Plan deployment: \n",
    "+ Plan monitoring and maintenance: \n",
    "+ Produce final report: \n",
    "+ Review project: "
   ]
  },
  {
   "cell_type": "code",
   "execution_count": null,
   "metadata": {},
   "outputs": [],
   "source": []
  }
 ],
 "metadata": {
  "kernelspec": {
   "display_name": "Python 3",
   "language": "python",
   "name": "python3"
  },
  "language_info": {
   "codemirror_mode": {
    "name": "ipython",
    "version": 3
   },
   "file_extension": ".py",
   "mimetype": "text/x-python",
   "name": "python",
   "nbconvert_exporter": "python",
   "pygments_lexer": "ipython3",
   "version": "3.7.6"
  }
 },
 "nbformat": 4,
 "nbformat_minor": 4
}